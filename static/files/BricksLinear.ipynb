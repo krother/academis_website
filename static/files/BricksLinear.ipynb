{
 "cells": [
  {
   "cell_type": "markdown",
   "metadata": {},
   "source": [
    "# Bricks\n",
    "*a linear optimization problem solved with PuLP*"
   ]
  },
  {
   "cell_type": "markdown",
   "metadata": {},
   "source": [
    "## Problem Description\n",
    "\n",
    "We want to place a series of colored bricks in a N x M box\n",
    "\n",
    "![Bricks](bricks.png)"
   ]
  },
  {
   "cell_type": "markdown",
   "metadata": {},
   "source": [
    "The bricks need to be placed according the following rules:\n",
    "\n",
    "* all bricks with the same colour should end up in the same column\n",
    "* if this is not possible, the rightmost column of one colour should be filled up first\n",
    "* bricks of one colour should be as close to each other on the x-axis as possible\n",
    "\n",
    "A possible solution could look like this:\n",
    "\n",
    "![solution](bricks_solution.png)\n",
    "\n",
    "This notebook shows how to solve this problem using the **linear equation solver PuLP**."
   ]
  },
  {
   "cell_type": "markdown",
   "metadata": {},
   "source": [
    "## Preparations\n",
    "\n",
    "First, we define the bricks and their colours in Python:"
   ]
  },
  {
   "cell_type": "code",
   "execution_count": 1,
   "metadata": {
    "collapsed": false
   },
   "outputs": [],
   "source": [
    "bricks = ['a1', 'a2', 'a3', 'b1', 'b2', 'c1', 'c2', 'c3', 'c4', 'd1', 'd2', 'e1']"
   ]
  },
  {
   "cell_type": "markdown",
   "metadata": {},
   "source": [
    "We also define the size of the box to stack bricks in. A list of positions will help us later."
   ]
  },
  {
   "cell_type": "code",
   "execution_count": 2,
   "metadata": {
    "collapsed": true
   },
   "outputs": [],
   "source": [
    "XSIZE = 4\n",
    "YSIZE = 3\n",
    "positions = [(x,y) for x in range(XSIZE) for y in range(YSIZE)]"
   ]
  },
  {
   "cell_type": "markdown",
   "metadata": {},
   "source": [
    "## Modeling a Linear Equation System\n",
    "To model our problem using **PuLP**, we need to perform four steps:\n",
    "\n",
    "1. Define the model variables\n",
    "2. Define the optimization function\n",
    "3. Add linear constraints\n",
    "4. Run the solver\n"
   ]
  },
  {
   "cell_type": "markdown",
   "metadata": {},
   "source": [
    "### Step 1: Define the model variables\n",
    "\n",
    "Our model variable will be a binary matrix with four dimensions. The first two dimensions are quite obvious: each space in the box has its own **x, y** position in the matrix. The third dimension are the bricks **b** themselves. We use them to specify, which brick occupies a certain space. \n",
    "\n",
    "The fourth dimension is probably the least obvious: It is the column **rb** in which bricks of one colour should be placed. We use it to link bricks of the same colour together."
   ]
  },
  {
   "cell_type": "code",
   "execution_count": 3,
   "metadata": {
    "collapsed": false
   },
   "outputs": [],
   "source": [
    "from pulp import *\n",
    "\n",
    "v = LpVariable.dicts(\"bricks\", (range(XSIZE), range(YSIZE), bricks, range(XSIZE)), \\\n",
    "                     lowBound = 0, upBound = 1, cat = LpInteger)"
   ]
  },
  {
   "cell_type": "markdown",
   "metadata": {},
   "source": [
    "#### Why don't we simply assign each brick a number instead of an extra dimension?\n",
    "Yes, it would be nice to cut out an extra dimension from the matrix. However, we cannot discretisize numbers in a linear equation system (e.g. say *\"If x is 3 do this, if x is 4 do something else\"*). I find this quite a strong limitation, and the binary matrix is the proper way to say *\"I have discrete bricks a, b, c.. in my system\".*.\n",
    "\n",
    "#### I don't understand why range(XSIZE) appears twice.\n",
    "Each brick has two X values assigned: the first is the column **x** in which the brick actually is, the second is the rightmost column **rb** in which bricks of this colour should gather. We need this second value to implement the second and third rule above."
   ]
  },
  {
   "cell_type": "markdown",
   "metadata": {},
   "source": [
    "### Step 2: Define the Optimization Function\n",
    "\n",
    "We first tell PuLP that we have something to minimize:"
   ]
  },
  {
   "cell_type": "code",
   "execution_count": 4,
   "metadata": {
    "collapsed": true
   },
   "outputs": [],
   "source": [
    "m = LpProblem(\"Bricks\", LpMinimize)"
   ]
  },
  {
   "cell_type": "markdown",
   "metadata": {},
   "source": [
    "We want to tell PuLP to minimize the distance bricks have from their colleagues to the right. For that, we need to construct a penalty matrix first. We say that any block in column *x* that ought to be in colum *rb* has a penalty of `10` for each column in between:"
   ]
  },
  {
   "cell_type": "code",
   "execution_count": 5,
   "metadata": {
    "collapsed": false
   },
   "outputs": [
    {
     "data": {
      "text/plain": [
       "{(0, 0): 0,\n",
       " (0, 1): 10,\n",
       " (0, 2): 20,\n",
       " (0, 3): 30,\n",
       " (1, 0): 10,\n",
       " (1, 1): 0,\n",
       " (1, 2): 10,\n",
       " (1, 3): 20,\n",
       " (2, 0): 20,\n",
       " (2, 1): 10,\n",
       " (2, 2): 0,\n",
       " (2, 3): 10,\n",
       " (3, 0): 30,\n",
       " (3, 1): 20,\n",
       " (3, 2): 10,\n",
       " (3, 3): 0}"
      ]
     },
     "execution_count": 5,
     "metadata": {},
     "output_type": "execute_result"
    }
   ],
   "source": [
    "penalties = {}\n",
    "for x in range(XSIZE):\n",
    "    for rb in range(XSIZE):\n",
    "        penalties[(x, rb)] = 10 * abs(rb - x)\n",
    "penalties"
   ]
  },
  {
   "cell_type": "markdown",
   "metadata": {},
   "source": [
    "In a linear equation system, everything needs to be composed of terms like `a*x` that are added together. This is why you will see **sum** symbols frequently. Our minimization function *m* is:\n",
    "\n",
    "$$m(v) = \\sum_{x,y,b,rb}penalties_{x,rb} * v_{x,y,n,rb}$$ \n",
    "\n",
    "In PuLP, this minimization function is formulated as a sum with a scary-looking list comprehension:"
   ]
  },
  {
   "cell_type": "code",
   "execution_count": 6,
   "metadata": {
    "collapsed": false
   },
   "outputs": [],
   "source": [
    "m += lpSum([penalties[(x,rb)] * v[x][y][b][rb] for x,y in positions for b in bricks for rb in range(XSIZE)])"
   ]
  },
  {
   "cell_type": "markdown",
   "metadata": {},
   "source": [
    "### Step 3: Adding linear constraints\n",
    "Now we specify additional rules and conditions. We need to formulate these in the linear form as well. More sums, that is.\n",
    "\n",
    "#### Condition 1: One brick per position\n",
    "First, we want to specify that there can be only one brick per position. In math notation this is:\n",
    "\n",
    "$$\\sum_{b,rb} v_{x,y,b,rb} <= 1$$\n",
    "\n",
    "This condition must be true for each possible **x** and **y** value.\n",
    "\n",
    "In Python, it looks similar if you are familiar with **list comprehensions**."
   ]
  },
  {
   "cell_type": "code",
   "execution_count": 7,
   "metadata": {
    "collapsed": false
   },
   "outputs": [],
   "source": [
    "for x, y in positions:\n",
    "        m += lpSum([v[x][y][b][rb] for b in bricks for rb in range(XSIZE)]) <= 1"
   ]
  },
  {
   "cell_type": "markdown",
   "metadata": {},
   "source": [
    "#### Condition 2: One position per brick\n",
    "Likewise, each brick can have only one position. This should be obvious, but given the binary matrix we still have to say it explicitly:"
   ]
  },
  {
   "cell_type": "code",
   "execution_count": 8,
   "metadata": {
    "collapsed": false
   },
   "outputs": [],
   "source": [
    "for b in bricks:\n",
    "    m += lpSum([v[x][y][b][rb] for x, y in positions for rb in range(XSIZE)]) == 1"
   ]
  },
  {
   "cell_type": "markdown",
   "metadata": {},
   "source": [
    "#### Condition 3: no bricks right of the rb column\n",
    "We want to implement the column **rb** (our fourth dimension) as a hard boundary. So no bricks should appear right of it. Hopefully this results in bricks stackin up in the **rb** column, and those left over left of it.\n",
    "\n",
    "We do this by adding a constraint that certain columns need to be zero."
   ]
  },
  {
   "cell_type": "code",
   "execution_count": 9,
   "metadata": {
    "collapsed": true
   },
   "outputs": [],
   "source": [
    "for x in range(XSIZE):\n",
    "    for rb in range(XSIZE):\n",
    "        if x > rb:\n",
    "            m += lpSum([v[x][y][b][rb] for y in range(YSIZE) for b in bricks]) == 0"
   ]
  },
  {
   "cell_type": "markdown",
   "metadata": {},
   "source": [
    "The art of formulating a linear problem with PuLP is to know, when to put a for loop into the sum (corresponding to an index in a sum symbol) or outside (corresponding to having multiple sums)."
   ]
  },
  {
   "cell_type": "markdown",
   "metadata": {},
   "source": [
    "#### Condition 4: bricks of same colour stick together\n",
    "This was the tough one while developing the example. We tell our equation system that any two bricks of the same colour must have the same right boundary **rb**. This way, we enforce that the same penalties in the minimization apply to one colour.\n",
    "\n",
    "For the implementation, we need to add a separate constraint for each pair of bricks. For each pair and rb value, the corresponding values in **v** are either both 1 or both 0, which we can check by calculating their difference:"
   ]
  },
  {
   "cell_type": "code",
   "execution_count": 10,
   "metadata": {
    "collapsed": true
   },
   "outputs": [],
   "source": [
    "pairs = [('a1', 'a2'), ('a1', 'a3'), ('a2', 'a3'), \n",
    "         ('b1', 'b2'),\n",
    "         ('c1', 'c2'), ('c1', 'c3'), ('c2', 'c3'), ('c1', 'c4'), ('c2', 'c4'), ('c3', 'c4'),\n",
    "         ('d1', 'd2')\n",
    "        ]\n",
    "\n",
    "for b1, b2 in pairs:\n",
    "    for rb in range(XSIZE):\n",
    "        m += lpSum([v[x][y][b1][rb] for x,y in positions] + [-v[x][y][b2][rb] for x,y in positions]) == 0"
   ]
  },
  {
   "cell_type": "markdown",
   "metadata": {},
   "source": [
    "#### Remark\n",
    "You might realize two things from this:\n",
    "* If you were to implement this as an algorithm, it would be **much easier**. But in a linear system it is not\n",
    "* The number of constraints explodes if you have more bricks or a bigger box. The complexity is something like $O(b^2 * x)$, which certainly is bad news."
   ]
  },
  {
   "cell_type": "markdown",
   "metadata": {},
   "source": [
    "### Step 4: Run the Solver\n",
    "Finally we can ask PuLP to solve the problem:"
   ]
  },
  {
   "cell_type": "code",
   "execution_count": 11,
   "metadata": {
    "collapsed": false
   },
   "outputs": [
    {
     "name": "stdout",
     "output_type": "stream",
     "text": [
      "Status: Optimal\n"
     ]
    }
   ],
   "source": [
    "m.solve()\n",
    "print(\"Status:\", LpStatus[m.status])"
   ]
  },
  {
   "cell_type": "markdown",
   "metadata": {},
   "source": [
    "## Display the result\n",
    "Lets see whether it really worked:"
   ]
  },
  {
   "cell_type": "code",
   "execution_count": 12,
   "metadata": {
    "collapsed": false
   },
   "outputs": [
    {
     "name": "stdout",
     "output_type": "stream",
     "text": [
      "b2[0]\ta3[1]\td1[2]\tc1[3]\t\n",
      "e1[0]\ta1[1]\td2[2]\tc2[3]\t\n",
      "b1[0]\ta2[1]\tc3[3]\tc4[3]\t\n"
     ]
    }
   ],
   "source": [
    "for y in range(YSIZE):\n",
    "    row = \"\"\n",
    "    for x in range(XSIZE):\n",
    "        for b in bricks:\n",
    "            for rb in range(XSIZE):\n",
    "                val = value(v[x][y][b][rb])\n",
    "                if val == 1:\n",
    "                    row += '{}[{}]'.format(b, rb)\n",
    "        row += '\\t'\n",
    "    print(row)"
   ]
  },
  {
   "cell_type": "markdown",
   "metadata": {
    "collapsed": true
   },
   "source": [
    "Which is one of the possible solutions."
   ]
  },
  {
   "cell_type": "code",
   "execution_count": null,
   "metadata": {
    "collapsed": true
   },
   "outputs": [],
   "source": []
  }
 ],
 "metadata": {
  "kernelspec": {
   "display_name": "Python 3",
   "language": "python",
   "name": "python3"
  },
  "language_info": {
   "codemirror_mode": {
    "name": "ipython",
    "version": 3
   },
   "file_extension": ".py",
   "mimetype": "text/x-python",
   "name": "python",
   "nbconvert_exporter": "python",
   "pygments_lexer": "ipython3",
   "version": "3.4.0"
  }
 },
 "nbformat": 4,
 "nbformat_minor": 0
}
